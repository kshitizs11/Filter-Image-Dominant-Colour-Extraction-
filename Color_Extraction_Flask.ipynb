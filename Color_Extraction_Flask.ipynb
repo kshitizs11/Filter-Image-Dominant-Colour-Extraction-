{
 "cells": [
  {
   "cell_type": "code",
   "execution_count": 5,
   "metadata": {},
   "outputs": [],
   "source": [
    "import numpy as np\n",
    "import pandas as pd\n",
    "import matplotlib.pyplot as plt\n",
    "import cv2\n",
    "from sklearn.cluster import KMeans"
   ]
  },
  {
   "cell_type": "code",
   "execution_count": 6,
   "metadata": {},
   "outputs": [],
   "source": [
    "def change_color(path,k):\n",
    "    img = cv2.imread(path)\n",
    "    img = cv2.cvtColor(img,cv2.COLOR_BGR2RGB)\n",
    "    \n",
    "    h = img.shape[0]\n",
    "    w = img.shape[1]\n",
    "    \n",
    "    x = img.reshape((-1,3))\n",
    "    km = KMeans(n_clusters=k)\n",
    "    \n",
    "    km.fit(x)\n",
    "    \n",
    "    centers = np.array(km.cluster_centers_, dtype=\"uint\")\n",
    "    new_img = np.zeros((x.shape[0],3), dtype = \"uint\")\n",
    "    \n",
    "    for i in range(x.shape[0]):\n",
    "        new_img[i] = centers[km.labels_[i]]\n",
    "    \n",
    "    new_img = new_img.reshape((h,w,3))\n",
    "    \n",
    "    return new_img"
   ]
  },
  {
   "cell_type": "code",
   "execution_count": null,
   "metadata": {},
   "outputs": [],
   "source": []
  }
 ],
 "metadata": {
  "kernelspec": {
   "display_name": "Python 3",
   "language": "python",
   "name": "python3"
  },
  "language_info": {
   "codemirror_mode": {
    "name": "ipython",
    "version": 3
   },
   "file_extension": ".py",
   "mimetype": "text/x-python",
   "name": "python",
   "nbconvert_exporter": "python",
   "pygments_lexer": "ipython3",
   "version": "3.6.10"
  }
 },
 "nbformat": 4,
 "nbformat_minor": 4
}
